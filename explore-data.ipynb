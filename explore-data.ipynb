{
 "cells": [
  {
   "cell_type": "code",
   "execution_count": null,
   "metadata": {},
   "outputs": [],
   "source": [
    "# get odis_male_json from cricsheet, put it in data/odis_male_json"
   ]
  },
  {
   "cell_type": "code",
   "execution_count": 1,
   "metadata": {},
   "outputs": [],
   "source": [
    "import os\n",
    "import json\n",
    "\n",
    "# Directory containing the JSON files\n",
    "directory = 'data/odis_male_json'\n",
    "\n",
    "# List to store the data from all JSON files\n",
    "data = []\n",
    "\n",
    "# Iterate over every file in the directory\n",
    "for filename in os.listdir(directory):\n",
    "    # Check if the file is a JSON file\n",
    "    if filename.endswith('.json'):\n",
    "        # Construct the full file path\n",
    "        filepath = os.path.join(directory, filename)\n",
    "        # Open the file\n",
    "        with open(filepath, 'r') as file:\n",
    "            # Load the JSON data\n",
    "            json_data = json.load(file)\n",
    "            # Append the data to the list\n",
    "            data.append(json_data)"
   ]
  },
  {
   "cell_type": "code",
   "execution_count": 2,
   "metadata": {},
   "outputs": [
    {
     "data": {
      "text/plain": [
       "2408"
      ]
     },
     "execution_count": 2,
     "metadata": {},
     "output_type": "execute_result"
    }
   ],
   "source": [
    "len(data)"
   ]
  },
  {
   "cell_type": "code",
   "execution_count": 3,
   "metadata": {},
   "outputs": [],
   "source": [
    "from datetime import datetime\n",
    "\n",
    "# Function to extract the date from a data item\n",
    "def get_date(item):\n",
    "    try:\n",
    "        date_str = item['info']['dates'][0]\n",
    "        return datetime.strptime(date_str, '%Y-%m-%d')\n",
    "    except Exception:\n",
    "        return None\n",
    "\n",
    "# Create a new list with only the items that have a valid date\n",
    "data_with_dates = [item for item in data if get_date(item) is not None]\n",
    "\n",
    "# Create a new sorted list\n",
    "data_sorted = sorted(data_with_dates, key=get_date)"
   ]
  },
  {
   "cell_type": "code",
   "execution_count": 4,
   "metadata": {},
   "outputs": [
    {
     "data": {
      "text/plain": [
       "2408"
      ]
     },
     "execution_count": 4,
     "metadata": {},
     "output_type": "execute_result"
    }
   ],
   "source": [
    "len(data_sorted)"
   ]
  },
  {
   "cell_type": "code",
   "execution_count": 5,
   "metadata": {},
   "outputs": [],
   "source": [
    "# Initialize an empty dictionary\n",
    "player_dict = {}\n",
    "\n",
    "# Iterate over all items in the data\n",
    "for item in data:\n",
    "    # Get the player registry for the current item\n",
    "    registry = item['info']['registry']['people']\n",
    "    \n",
    "    # Iterate over all players in the registry\n",
    "    for name, id in registry.items():\n",
    "        # If the player's ID is not already a key in the dictionary, add it with an empty list as the value\n",
    "        if id not in player_dict:\n",
    "            player_dict[id] = []\n",
    "        \n",
    "        # If the player's name is not already in the list for their ID, add it\n",
    "        if name not in player_dict[id]:\n",
    "            player_dict[id].append(name)"
   ]
  },
  {
   "cell_type": "code",
   "execution_count": 6,
   "metadata": {},
   "outputs": [
    {
     "data": {
      "text/plain": [
       "2181"
      ]
     },
     "execution_count": 6,
     "metadata": {},
     "output_type": "execute_result"
    }
   ],
   "source": [
    "len(player_dict)"
   ]
  },
  {
   "cell_type": "code",
   "execution_count": 36,
   "metadata": {},
   "outputs": [],
   "source": [
    "# # save player dict in data/players.json\n",
    "# with open('data/players.json', 'w') as file:\n",
    "#     json.dump(player_dict, file)\n",
    "    "
   ]
  },
  {
   "cell_type": "code",
   "execution_count": 7,
   "metadata": {},
   "outputs": [],
   "source": [
    "# List to store the number of deliveries in each match\n",
    "deliveries_per_match = []\n",
    "\n",
    "# Iterate over all items in the data\n",
    "for item in data:\n",
    "    # Initialize the count for the current match\n",
    "    match_count = 0\n",
    "    \n",
    "    # Iterate over all innings in the item\n",
    "    for innings in item['innings']:\n",
    "        # Iterate over all overs in the innings\n",
    "        for over in innings['overs']:\n",
    "            # Add the number of deliveries in the over to the match count\n",
    "            match_count += len(over['deliveries'])\n",
    "    \n",
    "    # Add the match count to the list\n",
    "    deliveries_per_match.append(match_count)\n",
    "\n",
    "# Calculate the total number of deliveries in the dataset\n",
    "total_deliveries = sum(deliveries_per_match)"
   ]
  },
  {
   "cell_type": "code",
   "execution_count": 8,
   "metadata": {},
   "outputs": [
    {
     "data": {
      "image/png": "[encoded data removed]",
      "text/plain": [
       "<Figure size 640x480 with 1 Axes>"
      ]
     },
     "metadata": {},
     "output_type": "display_data"
    }
   ],
   "source": [
    "import matplotlib.pyplot as plt\n",
    "\n",
    "# Create a histogram\n",
    "plt.hist(deliveries_per_match, bins=range(min(deliveries_per_match), max(deliveries_per_match) + 1))\n",
    "\n",
    "# Set the title and labels\n",
    "plt.title('Deliveries in a Match vs Frequency')\n",
    "plt.xlabel('Deliveries in a Match')\n",
    "plt.ylabel('Frequency')\n",
    "\n",
    "# Show the plot\n",
    "plt.show()"
   ]
  },
  {
   "cell_type": "code",
   "execution_count": 9,
   "metadata": {},
   "outputs": [
    {
     "data": {
      "text/plain": [
       "1280571"
      ]
     },
     "execution_count": 9,
     "metadata": {},
     "output_type": "execute_result"
    }
   ],
   "source": [
    "total_deliveries"
   ]
  },
  {
   "cell_type": "code",
   "execution_count": 10,
   "metadata": {},
   "outputs": [],
   "source": [
    "# # find all players who may have 'Kohli' in their name\n",
    "# for id, names in player_dict.items():\n",
    "#     for name in names:\n",
    "#         if 'Kohli' in name:\n",
    "#             print(id, name)\n",
    "\n",
    "# List to store the data for each delivery\n",
    "delivery_data = []\n",
    "\n",
    "# Iterate over all items in the data\n",
    "for item in data_sorted:\n",
    "    # Get the date of the match\n",
    "    match_date = get_date(item)\n",
    "    # convert match_date to string\n",
    "    match_date = match_date.strftime('%Y-%m-%d')\n",
    "    \n",
    "    # Iterate over all innings in the item\n",
    "    for innings in item['innings']:\n",
    "        # Iterate over all overs in the innings\n",
    "        for over in innings['overs']:\n",
    "            # Iterate over all deliveries in the over\n",
    "            for delivery in over['deliveries']:\n",
    "                # Create a dictionary with the required keys\n",
    "                delivery_dict = {\n",
    "                    'date': match_date,\n",
    "                    'batter_id': item['info']['registry']['people'][delivery['batter']],\n",
    "                    'bowler_id': item['info']['registry']['people'][delivery['bowler']],\n",
    "                    'runs': delivery['runs'],\n",
    "                    'wickets': delivery['wickets'] if 'wickets' in delivery else [],\n",
    "                }\n",
    "                \n",
    "                # Append the dictionary to the list\n",
    "                delivery_data.append(delivery_dict)"
   ]
  },
  {
   "cell_type": "code",
   "execution_count": 50,
   "metadata": {},
   "outputs": [
    {
     "data": {
      "text/plain": [
       "{'date': '2023-10-28',\n",
       " 'batter_id': 'ef18b66e',\n",
       " 'bowler_id': '4557dc54',\n",
       " 'runs': {'batter': 0, 'extras': 0, 'total': 0},\n",
       " 'wickets': [{'player_out': 'Taskin Ahmed',\n",
       "   'fielders': [{'name': 'BFW de Leede'}],\n",
       "   'kind': 'caught'}]}"
      ]
     },
     "execution_count": 50,
     "metadata": {},
     "output_type": "execute_result"
    }
   ],
   "source": [
    "delivery_data[-1]"
   ]
  },
  {
   "cell_type": "code",
   "execution_count": 51,
   "metadata": {},
   "outputs": [],
   "source": [
    "# # write delivery data to file\n",
    "# with open('data/deliveries.json', 'w') as file:\n",
    "#     json.dump(delivery_data, file)\n",
    "\n",
    "\n",
    "# def delivery_score(delivery):\n",
    "#     # Wicket\n",
    "#     if 'wickets' in delivery and len(delivery['wickets']) > 0:\n",
    "#         return 0\n",
    "    \n",
    "#     # runs = delivery['runs']['total']\n",
    "#     # if runs == 0:\n",
    "#     #     return 0.5\n",
    "#     return 1\n",
    "\n",
    "#     # # now scale runs between 0.5 and 1, with 0.5 being the lowest and 1 being the highest\n",
    "#     # run_score = 0.5 + runs / 12\n",
    "\n",
    "#     # if run_score > 1:\n",
    "#     #     run_score = 1\n",
    "#     # return run_score\n",
    "\n",
    "#     # # Runs\n",
    "#     # total_runs = delivery['runs']['total']\n",
    "    \n",
    "#     # # If no runs\n",
    "#     # if total_runs == 0:\n",
    "#     #     return 0.2\n",
    "    \n",
    "#     # # Check for boundary conditions\n",
    "#     # if total_runs == 4:\n",
    "#     #     if 'non_boundary' in delivery['runs'] and delivery['runs']['non_boundary']:\n",
    "#     #         return 0.75\n",
    "#     #     else:\n",
    "#     #         return 0.8\n",
    "#     # elif total_runs == 6:\n",
    "#     #     if 'non_boundary' in delivery['runs'] and delivery['runs']['non_boundary']:\n",
    "#     #         return 0.85\n",
    "#     #     else:\n",
    "#     #         return 1\n",
    "    \n",
    "#     # # Other run cases\n",
    "#     # run_mapping = {\n",
    "#     #     1: 0.4,\n",
    "#     #     2: 0.6,\n",
    "#     #     3: 0.7\n",
    "#     # }\n",
    "    \n",
    "#     # return run_mapping.get(total_runs, 0.5)  # Defaulting to 0.5 in case of unexpected runs\n",
    "\n",
    "    "
   ]
  },
  {
   "cell_type": "code",
   "execution_count": 144,
   "metadata": {},
   "outputs": [],
   "source": [
    "# Initialize counters\n",
    "wicket_count = 0\n",
    "run_count = 0\n",
    "dot_ball_count = 0\n",
    "\n",
    "# Iterate over all deliveries\n",
    "for delivery in delivery_data:\n",
    "    # Check for wickets\n",
    "    if delivery['wickets'] is not None and len(delivery['wickets']) > 0:\n",
    "        wicket_count += 1\n",
    "\n",
    "    # Check for runs\n",
    "    if delivery['runs']['total'] > 0:\n",
    "        run_count += 1\n",
    "\n",
    "    # Check for dot balls\n",
    "    if delivery['runs']['total'] == 0:\n",
    "        dot_ball_count += 1\n",
    "\n",
    "print(f\"Total wickets: {wicket_count}\")\n",
    "print(f\"Total runs: {run_count}\")\n",
    "print(f\"Total dot balls: {dot_ball_count}\")"
   ]
  },
  {
   "cell_type": "code",
   "execution_count": 92,
   "metadata": {},
   "outputs": [],
   "source": [
    "def expected_score(rating1, rating2):\n",
    "    return 1 / (1 + 10 ** ((rating2 - rating1) / 400))\n",
    "\n",
    "def update_ratings(rating1, rating2, score1, score2, K=20):\n",
    "    expected1 = expected_score(rating1, rating2)\n",
    "    expected2 = expected_score(rating2, rating1)\n",
    "    rating1 += K * (score1 - expected1)\n",
    "    rating2 += K * (score2 - expected2)\n",
    "    return rating1, rating2\n",
    "\n",
    "def delivery_score(delivery):\n",
    "    # Wicket\n",
    "    if 'wickets' in delivery and len(delivery['wickets']) > 0:\n",
    "        return 0\n",
    "    \n",
    "    total_runs = delivery['runs']['total']\n",
    "    if total_runs == 0:\n",
    "        return 0.1\n",
    "    return 1\n",
    "\n",
    "def delivery_score_batter_bowler(delivery):\n",
    "    # separate scores for batsman and bowler\n",
    "\n",
    "    if 'wickets' in delivery and len(delivery['wickets']) > 0:\n",
    "        return 0, 1\n",
    "    \n",
    "    total_runs = delivery['runs']['total']\n",
    "\n",
    "    if total_runs >= 1:\n",
    "        return 1, 0\n",
    "    \n",
    "    return 0.5, 0.8 # if dot ball, then both batsman and bowler get 1\n",
    "    \n",
    "    # run_mapping_batsman = {\n",
    "    #     0: 0.4,  # slightly against the batsman\n",
    "    #     1: 0.55, # neutral to slightly in favor of batsman\n",
    "    #     2: 0.7,\n",
    "    #     3: 0.75,\n",
    "    #     4: 0.8,\n",
    "    #     6: 1\n",
    "    # }\n",
    "    \n",
    "    # run_mapping_bowler = {\n",
    "    #     0: 0.6,  # slightly in favor of the bowler\n",
    "    #     1: 0.45, # neutral to slightly against bowler\n",
    "    #     2: 0.3,\n",
    "    #     3: 0.25,\n",
    "    #     4: 0.2,\n",
    "    #     6: 0\n",
    "    # }\n",
    "    \n",
    "    # return run_mapping_batsman.get(total_runs, 0.5), run_mapping_bowler.get(total_runs, 0.5)\n",
    "\n"
   ]
  },
  {
   "cell_type": "code",
   "execution_count": 93,
   "metadata": {},
   "outputs": [],
   "source": [
    "from datetime import datetime\n",
    "\n",
    "\n",
    "# Function to get ratings till a certain date\n",
    "def get_ratings_till_date(end_date_str, INITIAL_ELO=1500, K=2):\n",
    "    # Convert the end date to a datetime object\n",
    "    end_date = datetime.strptime(end_date_str, '%Y-%m-%d')\n",
    "\n",
    "    # Initialize the ratings, counts and last match dates\n",
    "    batting_ratings = {player_id: INITIAL_ELO for player_id in set([delivery['batter_id'] for delivery in delivery_data])}\n",
    "    bowling_ratings = {player_id: INITIAL_ELO for player_id in set([delivery['bowler_id'] for delivery in delivery_data])}\n",
    "    batting_deliveries_count = {player_id: 0 for player_id in batting_ratings.keys()}\n",
    "    bowling_deliveries_count = {player_id: 0 for player_id in bowling_ratings.keys()}\n",
    "    last_match_date = {player_id: None for player_id in set(list(batting_ratings.keys()) + list(bowling_ratings.keys()))}\n",
    "\n",
    "    # Iterate over all deliveries\n",
    "    for delivery in delivery_data:\n",
    "        # Get the date of the delivery\n",
    "        delivery_date = datetime.strptime(delivery['date'], '%Y-%m-%d')\n",
    "\n",
    "        # Stop processing once we reach a delivery that is after the end date\n",
    "        if delivery_date > end_date:\n",
    "            break\n",
    "\n",
    "        # Process the delivery as before\n",
    "        batter_rating = batting_ratings[delivery['batter_id']]\n",
    "        bowler_rating = bowling_ratings[delivery['bowler_id']]\n",
    "        batsman_score, bowler_score = delivery_score_batter_bowler(delivery)\n",
    "        new_batter_rating, new_bowler_rating = update_ratings(batter_rating, bowler_rating, batsman_score, bowler_score, K=K)\n",
    "        batting_ratings[delivery['batter_id']] = new_batter_rating\n",
    "        bowling_ratings[delivery['bowler_id']] = new_bowler_rating\n",
    "        batting_deliveries_count[delivery['batter_id']] += 1\n",
    "        bowling_deliveries_count[delivery['bowler_id']] += 1\n",
    "        # last_match_date[delivery['batter_id']] = delivery_date\n",
    "        # last_match_date[delivery['bowler_id']] = delivery_date\n",
    "\n",
    "    return batting_ratings, bowling_ratings, batting_deliveries_count, bowling_deliveries_count, last_match_date\n",
    "\n",
    "\n",
    "def get_ratings_over_time_for_player(player_id, INITIAL_ELO=1500, K=2):\n",
    "    # Convert the end date to a datetime object\n",
    "\n",
    "    # Initialize the ratings, counts and last match dates\n",
    "    batting_ratings = {player_id: INITIAL_ELO for player_id in set([delivery['batter_id'] for delivery in delivery_data])}\n",
    "    bowling_ratings = {player_id: INITIAL_ELO for player_id in set([delivery['bowler_id'] for delivery in delivery_data])}\n",
    "    batting_deliveries_count = {player_id: 0 for player_id in batting_ratings.keys()}\n",
    "    bowling_deliveries_count = {player_id: 0 for player_id in bowling_ratings.keys()}\n",
    "    last_match_date = {player_id: None for player_id in set(list(batting_ratings.keys()) + list(bowling_ratings.keys()))}\n",
    "\n",
    "    # Initialize the ratings over time\n",
    "    batting_ratings_over_time = []\n",
    "    bowling_ratings_over_time = []\n",
    "\n",
    "    # Iterate over all deliveries\n",
    "    for delivery in delivery_data:\n",
    "        # Get the date of the delivery\n",
    "        delivery_date = datetime.strptime(delivery['date'], '%Y-%m-%d')\n",
    "\n",
    "        # Process the delivery as before\n",
    "        batter_rating = batting_ratings[delivery['batter_id']]\n",
    "        bowler_rating = bowling_ratings[delivery['bowler_id']]\n",
    "        batsman_score, bowler_score = delivery_score_batter_bowler(delivery)\n",
    "        new_batter_rating, new_bowler_rating = update_ratings(batter_rating, bowler_rating, batsman_score, bowler_score, K=K)\n",
    "        batting_ratings[delivery['batter_id']] = new_batter_rating\n",
    "        bowling_ratings[delivery['bowler_id']] = new_bowler_rating\n",
    "        batting_deliveries_count[delivery['batter_id']] += 1\n",
    "        bowling_deliveries_count[delivery['bowler_id']] += 1\n",
    "        last_match_date[delivery['batter_id']] = delivery_date\n",
    "        last_match_date[delivery['bowler_id']] = delivery_date\n",
    "\n",
    "        # If the player is involved in the delivery, record their rating\n",
    "        if delivery['batter_id'] == player_id:\n",
    "            batting_ratings_over_time.append((delivery_date, new_batter_rating))\n",
    "        if delivery['bowler_id'] == player_id:\n",
    "            bowling_ratings_over_time.append((delivery_date, new_bowler_rating))\n",
    "\n",
    "    return batting_ratings_over_time, bowling_ratings_over_time\n",
    "\n",
    "# Use the function to get the ratings till a certain date\n",
    "(batting_ratings_till_date, \n",
    " bowling_ratings_till_date, \n",
    " batting_deliveries_count_till_date, \n",
    " bowling_deliveries_count_till_date, \n",
    " last_match_date_till_date) = get_ratings_till_date('2023-12-31')"
   ]
  },
  {
   "cell_type": "code",
   "execution_count": 94,
   "metadata": {},
   "outputs": [
    {
     "name": "stdout",
     "output_type": "stream",
     "text": [
      "Top 10 Batsmen:\n",
      "Player Name: H Klaasen, Batting Rating: 1663.716595700524, Deliveries Faced: 1406\n",
      "Player Name: Shahid Afridi, Batting Rating: 1651.2900532112405, Deliveries Faced: 2998\n",
      "Player Name: AB de Villiers, Batting Rating: 1649.8063942687638, Deliveries Faced: 9488\n",
      "Player Name: JC Buttler, Batting Rating: 1640.6970178658335, Deliveries Faced: 4270\n",
      "Player Name: DA Miller, Batting Rating: 1638.1841883851039, Deliveries Faced: 4204\n",
      "Player Name: Imad Wasim, Batting Rating: 1638.088957462926, Deliveries Faced: 917\n",
      "Player Name: SC Williams, Batting Rating: 1637.2227596178689, Deliveries Faced: 4931\n",
      "Player Name: Sarfraz Ahmed, Batting Rating: 1633.6188747380882, Deliveries Faced: 2707\n",
      "Player Name: AK Markram, Batting Rating: 1627.1906450090178, Deliveries Faced: 2071\n",
      "Player Name: NLTC Perera, Batting Rating: 1627.0910266434937, Deliveries Faced: 2136\n",
      "\n",
      "Top 10 Bowlers:\n",
      "Player Name: SM Pollock, Bowling Rating: 1535.0192111351196, Deliveries Bowled: 5061\n",
      "Player Name: WPUJC Vaas, Bowling Rating: 1530.0086598791913, Deliveries Bowled: 4806\n",
      "Player Name: SE Bond, Bowling Rating: 1518.4838646449532, Deliveries Bowled: 3421\n",
      "Player Name: J Lewis, Bowling Rating: 1515.8790176877978, Deliveries Bowled: 645\n",
      "Player Name: AR Caddick, Bowling Rating: 1514.3516397797064, Deliveries Bowled: 604\n",
      "Player Name: B Stanlake, Bowling Rating: 1512.9417573357618, Deliveries Bowled: 359\n",
      "Player Name: MG Johnson, Bowling Rating: 1511.7536545169414, Deliveries Bowled: 7645\n",
      "Player Name: KADM Fernando, Bowling Rating: 1511.39255813236, Deliveries Bowled: 43\n",
      "Player Name: G Motie, Bowling Rating: 1511.3517244828552, Deliveries Bowled: 384\n",
      "Player Name: BM Scholtz, Bowling Rating: 1510.306118914857, Deliveries Bowled: 1926\n"
     ]
    }
   ],
   "source": [
    "top_10_batsmen = sorted(batting_ratings_till_date.items(), key=lambda x: x[1], reverse=True)[:10]\n",
    "top_10_bowlers = sorted(bowling_ratings_till_date.items(), key=lambda x: x[1], reverse=True)[:10]\n",
    "\n",
    "\n",
    "print(\"Top 10 Batsmen:\")\n",
    "for player_id, rating in top_10_batsmen:\n",
    "    player_name = player_dict[player_id][0]\n",
    "    deliveries_faced = batting_deliveries_count_till_date[player_id]\n",
    "    print(f\"Player Name: {player_name}, Batting Rating: {rating}, Deliveries Faced: {deliveries_faced}\")\n",
    "\n",
    "print(\"\\nTop 10 Bowlers:\")\n",
    "for player_id, rating in top_10_bowlers:\n",
    "    player_name = player_dict[player_id][0]\n",
    "    deliveries_bowled = bowling_deliveries_count_till_date[player_id]\n",
    "    print(f\"Player Name: {player_name}, Bowling Rating: {rating}, Deliveries Bowled: {deliveries_bowled}\")\n"
   ]
  },
  {
   "cell_type": "code",
   "execution_count": 95,
   "metadata": {},
   "outputs": [],
   "source": [
    "player_id = '4329fbb5'\n",
    "\n",
    "batting_ratings_player, bowling_ratings_player = get_ratings_over_time_for_player(player_id, K=3)"
   ]
  },
  {
   "cell_type": "code",
   "execution_count": 96,
   "metadata": {},
   "outputs": [
    {
     "data": {
      "image/png": "[encoded data removed]",
      "text/plain": [
       "<Figure size 1000x600 with 1 Axes>"
      ]
     },
     "metadata": {},
     "output_type": "display_data"
    }
   ],
   "source": [
    "import matplotlib.pyplot as plt\n",
    "\n",
    "# Separate the dates and ratings\n",
    "batting_dates, batting_ratings = zip(*batting_ratings_player)\n",
    "bowling_dates, bowling_ratings = zip(*bowling_ratings_player)\n",
    "\n",
    "# Create a new figure\n",
    "plt.figure(figsize=(10, 6))\n",
    "\n",
    "# Plot the batting ratings\n",
    "plt.plot(batting_dates, batting_ratings, label='Batting Ratings')\n",
    "\n",
    "# Plot the bowling ratings\n",
    "plt.plot(bowling_dates, bowling_ratings, label='Bowling Ratings')\n",
    "\n",
    "# Add a legend\n",
    "plt.legend()\n",
    "\n",
    "# Add title and labels\n",
    "plt.title('Player Ratings Over Time')\n",
    "plt.xlabel('Date')\n",
    "plt.ylabel('Rating')\n",
    "\n",
    "# Show the plot\n",
    "plt.show()"
   ]
  },
  {
   "cell_type": "code",
   "execution_count": 82,
   "metadata": {},
   "outputs": [
    {
     "name": "stdout",
     "output_type": "stream",
     "text": [
      "4329fbb5 SR Watson\n",
      "a670d624 RR Watson\n"
     ]
    }
   ],
   "source": [
    "# find player id with 'Tendulkar' in name\n",
    "for id, names in player_dict.items():\n",
    "    for name in names:\n",
    "        if 'Watson' in name:\n",
    "            print(id, name)\n",
    "\n",
    "# kohli ba607b88\n",
    "# find rating for d2c2b2d5 which is tendulkar\n",
    "# print(batting_ratings['d2c2b2d5'])\n",
    "\n",
    "# # find rank for tendulkar, by sorting and finding index\n",
    "# batsmen_sorted = sorted(batting_ratings.items(), key=lambda x: x[1], reverse=True)\n",
    "# for i, (player_id, rating) in enumerate(batsmen_sorted):\n",
    "#     if player_id == 'd2c2b2d5':\n",
    "#         print(i + 1)\n",
    "#         break\n",
    "    "
   ]
  },
  {
   "cell_type": "code",
   "execution_count": 20,
   "metadata": {},
   "outputs": [
    {
     "data": {
      "text/plain": [
       "dict_keys(['team', 'overs', 'powerplays'])"
      ]
     },
     "execution_count": 20,
     "metadata": {},
     "output_type": "execute_result"
    }
   ],
   "source": [
    "item['innings'][0].keys()"
   ]
  },
  {
   "cell_type": "code",
   "execution_count": 25,
   "metadata": {},
   "outputs": [
    {
     "data": {
      "text/plain": [
       "{'over': 1,\n",
       " 'deliveries': [{'batter': 'Vikramjit Singh',\n",
       "   'bowler': 'Taskin Ahmed',\n",
       "   'non_striker': \"MP O'Dowd\",\n",
       "   'runs': {'batter': 0, 'extras': 0, 'total': 0}},\n",
       "  {'batter': 'Vikramjit Singh',\n",
       "   'bowler': 'Taskin Ahmed',\n",
       "   'non_striker': \"MP O'Dowd\",\n",
       "   'runs': {'batter': 0, 'extras': 0, 'total': 0}},\n",
       "  {'batter': 'Vikramjit Singh',\n",
       "   'bowler': 'Taskin Ahmed',\n",
       "   'non_striker': \"MP O'Dowd\",\n",
       "   'runs': {'batter': 0, 'extras': 0, 'total': 0}},\n",
       "  {'batter': 'Vikramjit Singh',\n",
       "   'bowler': 'Taskin Ahmed',\n",
       "   'non_striker': \"MP O'Dowd\",\n",
       "   'runs': {'batter': 0, 'extras': 0, 'total': 0},\n",
       "   'wickets': [{'player_out': 'Vikramjit Singh',\n",
       "     'fielders': [{'name': 'Shakib Al Hasan'}],\n",
       "     'kind': 'caught'}]},\n",
       "  {'batter': 'W Barresi',\n",
       "   'bowler': 'Taskin Ahmed',\n",
       "   'extras': {'wides': 1},\n",
       "   'non_striker': \"MP O'Dowd\",\n",
       "   'runs': {'batter': 0, 'extras': 1, 'total': 1}},\n",
       "  {'batter': 'W Barresi',\n",
       "   'bowler': 'Taskin Ahmed',\n",
       "   'non_striker': \"MP O'Dowd\",\n",
       "   'runs': {'batter': 0, 'extras': 0, 'total': 0}},\n",
       "  {'batter': 'W Barresi',\n",
       "   'bowler': 'Taskin Ahmed',\n",
       "   'non_striker': \"MP O'Dowd\",\n",
       "   'runs': {'batter': 0, 'extras': 0, 'total': 0}}]}"
      ]
     },
     "execution_count": 25,
     "metadata": {},
     "output_type": "execute_result"
    }
   ],
   "source": [
    "item['innings'][0]['overs'][1]"
   ]
  },
  {
   "cell_type": "code",
   "execution_count": 29,
   "metadata": {},
   "outputs": [
    {
     "data": {
      "text/plain": [
       "{'A Dutt': '803dbf1d',\n",
       " 'BFW de Leede': 'fc4375ef',\n",
       " 'CB Gaffaney': 'd5ac41d8',\n",
       " 'CN Ackermann': 'e734d090',\n",
       " 'HDPK Dharmasena': '323e4c16',\n",
       " 'JJ Crowe': '2e760301',\n",
       " 'JS Wilson': 'd7f3b72f',\n",
       " 'LV van Beek': '782fb776',\n",
       " 'Liton Das': '0404d43c',\n",
       " \"MP O'Dowd\": 'b699df47',\n",
       " 'Mahedi Hasan': '9dad0f2e',\n",
       " 'Mahmudullah': 'bf1d7d3e',\n",
       " 'Mehedi Hasan Miraz': 'c58b0108',\n",
       " 'Mushfiqur Rahim': 'a94e08ea',\n",
       " 'Mustafizur Rahman': '0a8fce53',\n",
       " 'Nazmul Hossain Shanto': '1274d7ab',\n",
       " 'P Wilson': '68304a36',\n",
       " 'PA van Meekeren': '4557dc54',\n",
       " 'SA Edwards': 'b59db04f',\n",
       " 'SA Engelbrecht': '81a0e294',\n",
       " 'Shakib Al Hasan': '7dc35884',\n",
       " 'Shariz Ahmad': '7595b47f',\n",
       " 'Shoriful Islam': 'bb34fd31',\n",
       " 'Tanzid Hasan': '80fe764d',\n",
       " 'Taskin Ahmed': 'ef18b66e',\n",
       " 'Vikramjit Singh': '2a9eee66',\n",
       " 'W Barresi': '0d677597'}"
      ]
     },
     "execution_count": 29,
     "metadata": {},
     "output_type": "execute_result"
    }
   ],
   "source": [
    "item['info']['registry']['people']"
   ]
  },
  {
   "cell_type": "code",
   "execution_count": null,
   "metadata": {},
   "outputs": [],
   "source": []
  }
 ],
 "metadata": {
  "kernelspec": {
   "display_name": "Python 3",
   "language": "python",
   "name": "python3"
  },
  "language_info": {
   "codemirror_mode": {
    "name": "ipython",
    "version": 3
   },
   "file_extension": ".py",
   "mimetype": "text/x-python",
   "name": "python",
   "nbconvert_exporter": "python",
   "pygments_lexer": "ipython3",
   "version": "3.10.13"
  },
  "orig_nbformat": 4
 },
 "nbformat": 4,
 "nbformat_minor": 2
}
